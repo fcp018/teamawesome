{
 "cells": [
  {
   "cell_type": "code",
   "execution_count": 8,
   "metadata": {},
   "outputs": [
    {
     "name": "stdout",
     "output_type": "stream",
     "text": [
      "<tweepy.api.API object at 0x1109dc748>\n"
     ]
    }
   ],
   "source": [
    "import tweepy\n",
    "from tweepy import OAuthHandler\n",
    "\n",
    "CONSUMER_KEY = 'aCPmtgAVfdVqT6nki99esSTnf'\n",
    "CONSUMER_SECRET ='SUtANWQl7Pq3Jio24GFElTFkBlNjit2OCQUNKdDKheiTAy9lYx'\n",
    "OAUTH_TOKEN = '49232912-hR8Sf2EcTh45qDapm94BWI5qWRL8tGcjb4mVTpj9W'\n",
    "OAUTH_TOKEN_SECRET = 'ybWdDhk0zFBXk6kqm6P03dUEE57LulRNfajz7P12On6x0'\n",
    "\n",
    "auth = OAuthHandler(CONSUMER_KEY, CONSUMER_SECRET)\n",
    "auth.set_access_token(OAUTH_TOKEN, OAUTH_TOKEN_SECRET)\n",
    " \n",
    "api = tweepy.API(auth)\n",
    "print(api)"
   ]
  },
  {
   "cell_type": "code",
   "execution_count": 18,
   "metadata": {},
   "outputs": [
    {
     "name": "stdout",
     "output_type": "stream",
     "text": [
      "RT @nytopinion: State Department officials are quitting, citing \"complete and utter disdain for our expertise.\"  https://t.co/qgxKoudOj4\n",
      "New tool from @KelloggSchool helps companies calculate whether to offshore or manufacture locally. #KelloggInsight… https://t.co/MoXzHbqSi1\n",
      "After conquering Benghazi, what will Libya’s new strongman do next? https://t.co/Nfs5iJUwsB\n",
      ".@MalcolmNance school is in session. https://t.co/jYELlZapZC\n",
      "Here's what to watch when you're not watching ‘Game of Thrones’ this summer https://t.co/b7OtJOSQ7C https://t.co/yJJbXv4Fq3\n"
     ]
    }
   ],
   "source": [
    "for status in tweepy.Cursor(api.home_timeline).items(5):\n",
    "    # Process a single status\n",
    "    print(status.text)"
   ]
  },
  {
   "cell_type": "code",
   "execution_count": 17,
   "metadata": {},
   "outputs": [
    {
     "data": {
      "text/plain": [
       "'id'"
      ]
     },
     "execution_count": 17,
     "metadata": {},
     "output_type": "execute_result"
    }
   ],
   "source": []
  },
  {
   "cell_type": "code",
   "execution_count": null,
   "metadata": {
    "collapsed": true
   },
   "outputs": [],
   "source": []
  }
 ],
 "metadata": {
  "kernelspec": {
   "display_name": "Python 3",
   "language": "python",
   "name": "python3"
  },
  "language_info": {
   "codemirror_mode": {
    "name": "ipython",
    "version": 3
   },
   "file_extension": ".py",
   "mimetype": "text/x-python",
   "name": "python",
   "nbconvert_exporter": "python",
   "pygments_lexer": "ipython3",
   "version": "3.5.3"
  }
 },
 "nbformat": 4,
 "nbformat_minor": 2
}
